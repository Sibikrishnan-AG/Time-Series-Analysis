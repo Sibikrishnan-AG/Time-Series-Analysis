{
  "nbformat": 4,
  "nbformat_minor": 0,
  "metadata": {
    "colab": {
      "provenance": []
    },
    "kernelspec": {
      "name": "python3",
      "display_name": "Python 3"
    },
    "language_info": {
      "name": "python"
    }
  },
  "cells": [
    {
      "cell_type": "markdown",
      "source": [
        "#In this notebook, we will approach to address the tasks given using data visualisation and the Seasonal ARIMA model.\n",
        "\n",
        "By: Sibikrishnan A.G."
      ],
      "metadata": {
        "id": "DylnQXWmQC8G"
      }
    },
    {
      "cell_type": "markdown",
      "source": [
        "## Libraries used:\n",
        "- `pandas`: Efficient data handling.\n",
        "- `matplotlib`: For data visualization.\n",
        "- `ARIMA`: To model time series and forecast prices.\n",
        "- `interp1d`: For estimating prices on arbitrary dates using interpolation.\n",
        "- `auto_arima`: Automates parameter selection for ARIMA models, saving time."
      ],
      "metadata": {
        "id": "EKFtX8MXzAWE"
      }
    },
    {
      "cell_type": "code",
      "source": [
        "import pandas as pd\n",
        "import matplotlib.pyplot as plt\n",
        "from pandas.tseries.offsets import MonthEnd\n",
        "from statsmodels.tsa.arima.model import ARIMA\n",
        "from scipy.interpolate import interp1d\n",
        "from sklearn.metrics import mean_squared_error, mean_absolute_error\n",
        "from statsmodels.tsa.seasonal import seasonal_decompose\n",
        "from statsmodels.tsa.stattools import adfuller\n",
        "from statsmodels.tsa.statespace.sarimax import SARIMAX"
      ],
      "metadata": {
        "id": "3M9FBFbA2pV5"
      },
      "execution_count": null,
      "outputs": []
    },
    {
      "cell_type": "code",
      "source": [
        "#DOWNLOAD AND IMPORT PMDARIMA FOR AUTO ARIMA\n",
        "!pip install pmdarima\n",
        "from pmdarima import auto_arima"
      ],
      "metadata": {
        "colab": {
          "base_uri": "https://localhost:8080/"
        },
        "id": "1BaLK08q5e1i",
        "outputId": "f8e29324-45fd-41ef-dc01-63e30e010b1d"
      },
      "execution_count": null,
      "outputs": [
        {
          "output_type": "stream",
          "name": "stdout",
          "text": [
            "Requirement already satisfied: pmdarima in /usr/local/lib/python3.10/dist-packages (2.0.4)\n",
            "Requirement already satisfied: joblib>=0.11 in /usr/local/lib/python3.10/dist-packages (from pmdarima) (1.4.2)\n",
            "Requirement already satisfied: Cython!=0.29.18,!=0.29.31,>=0.29 in /usr/local/lib/python3.10/dist-packages (from pmdarima) (3.0.11)\n",
            "Requirement already satisfied: numpy>=1.21.2 in /usr/local/lib/python3.10/dist-packages (from pmdarima) (1.26.4)\n",
            "Requirement already satisfied: pandas>=0.19 in /usr/local/lib/python3.10/dist-packages (from pmdarima) (2.2.2)\n",
            "Requirement already satisfied: scikit-learn>=0.22 in /usr/local/lib/python3.10/dist-packages (from pmdarima) (1.5.2)\n",
            "Requirement already satisfied: scipy>=1.3.2 in /usr/local/lib/python3.10/dist-packages (from pmdarima) (1.13.1)\n",
            "Requirement already satisfied: statsmodels>=0.13.2 in /usr/local/lib/python3.10/dist-packages (from pmdarima) (0.14.4)\n",
            "Requirement already satisfied: urllib3 in /usr/local/lib/python3.10/dist-packages (from pmdarima) (2.2.3)\n",
            "Requirement already satisfied: setuptools!=50.0.0,>=38.6.0 in /usr/local/lib/python3.10/dist-packages (from pmdarima) (75.1.0)\n",
            "Requirement already satisfied: packaging>=17.1 in /usr/local/lib/python3.10/dist-packages (from pmdarima) (24.2)\n",
            "Requirement already satisfied: python-dateutil>=2.8.2 in /usr/local/lib/python3.10/dist-packages (from pandas>=0.19->pmdarima) (2.8.2)\n",
            "Requirement already satisfied: pytz>=2020.1 in /usr/local/lib/python3.10/dist-packages (from pandas>=0.19->pmdarima) (2024.2)\n",
            "Requirement already satisfied: tzdata>=2022.7 in /usr/local/lib/python3.10/dist-packages (from pandas>=0.19->pmdarima) (2024.2)\n",
            "Requirement already satisfied: threadpoolctl>=3.1.0 in /usr/local/lib/python3.10/dist-packages (from scikit-learn>=0.22->pmdarima) (3.5.0)\n",
            "Requirement already satisfied: patsy>=0.5.6 in /usr/local/lib/python3.10/dist-packages (from statsmodels>=0.13.2->pmdarima) (1.0.1)\n",
            "Requirement already satisfied: six>=1.5 in /usr/local/lib/python3.10/dist-packages (from python-dateutil>=2.8.2->pandas>=0.19->pmdarima) (1.16.0)\n"
          ]
        }
      ]
    },
    {
      "cell_type": "markdown",
      "source": [
        "# Data Preprocessing"
      ],
      "metadata": {
        "id": "cuKuS5fsnsKa"
      }
    },
    {
      "cell_type": "code",
      "source": [
        "#LOAD AND PREPROCESS DATA\n",
        "\n",
        "file_path = './Nat_Gas.csv'\n",
        "data = pd.read_csv(file_path)\n"
      ],
      "metadata": {
        "id": "Ruq2m50D3U-V"
      },
      "execution_count": null,
      "outputs": []
    },
    {
      "cell_type": "code",
      "source": [
        "#Brief look at the data structure\n",
        "data.head()"
      ],
      "metadata": {
        "colab": {
          "base_uri": "https://localhost:8080/",
          "height": 300
        },
        "id": "vh9b25oOzzMu",
        "outputId": "832a6469-1419-4461-8d74-54ac88e83328"
      },
      "execution_count": null,
      "outputs": [
        {
          "output_type": "execute_result",
          "data": {
            "text/plain": [
              "          Prices\n",
              "count  48.000000\n",
              "mean   11.207083\n",
              "std     0.757897\n",
              "min     9.840000\n",
              "25%    10.650000\n",
              "50%    11.300000\n",
              "75%    11.625000\n",
              "max    12.800000"
            ],
            "text/html": [
              "\n",
              "  <div id=\"df-9f032024-b5db-4aaa-9969-6dd44962d99f\" class=\"colab-df-container\">\n",
              "    <div>\n",
              "<style scoped>\n",
              "    .dataframe tbody tr th:only-of-type {\n",
              "        vertical-align: middle;\n",
              "    }\n",
              "\n",
              "    .dataframe tbody tr th {\n",
              "        vertical-align: top;\n",
              "    }\n",
              "\n",
              "    .dataframe thead th {\n",
              "        text-align: right;\n",
              "    }\n",
              "</style>\n",
              "<table border=\"1\" class=\"dataframe\">\n",
              "  <thead>\n",
              "    <tr style=\"text-align: right;\">\n",
              "      <th></th>\n",
              "      <th>Prices</th>\n",
              "    </tr>\n",
              "  </thead>\n",
              "  <tbody>\n",
              "    <tr>\n",
              "      <th>count</th>\n",
              "      <td>48.000000</td>\n",
              "    </tr>\n",
              "    <tr>\n",
              "      <th>mean</th>\n",
              "      <td>11.207083</td>\n",
              "    </tr>\n",
              "    <tr>\n",
              "      <th>std</th>\n",
              "      <td>0.757897</td>\n",
              "    </tr>\n",
              "    <tr>\n",
              "      <th>min</th>\n",
              "      <td>9.840000</td>\n",
              "    </tr>\n",
              "    <tr>\n",
              "      <th>25%</th>\n",
              "      <td>10.650000</td>\n",
              "    </tr>\n",
              "    <tr>\n",
              "      <th>50%</th>\n",
              "      <td>11.300000</td>\n",
              "    </tr>\n",
              "    <tr>\n",
              "      <th>75%</th>\n",
              "      <td>11.625000</td>\n",
              "    </tr>\n",
              "    <tr>\n",
              "      <th>max</th>\n",
              "      <td>12.800000</td>\n",
              "    </tr>\n",
              "  </tbody>\n",
              "</table>\n",
              "</div>\n",
              "    <div class=\"colab-df-buttons\">\n",
              "\n",
              "  <div class=\"colab-df-container\">\n",
              "    <button class=\"colab-df-convert\" onclick=\"convertToInteractive('df-9f032024-b5db-4aaa-9969-6dd44962d99f')\"\n",
              "            title=\"Convert this dataframe to an interactive table.\"\n",
              "            style=\"display:none;\">\n",
              "\n",
              "  <svg xmlns=\"http://www.w3.org/2000/svg\" height=\"24px\" viewBox=\"0 -960 960 960\">\n",
              "    <path d=\"M120-120v-720h720v720H120Zm60-500h600v-160H180v160Zm220 220h160v-160H400v160Zm0 220h160v-160H400v160ZM180-400h160v-160H180v160Zm440 0h160v-160H620v160ZM180-180h160v-160H180v160Zm440 0h160v-160H620v160Z\"/>\n",
              "  </svg>\n",
              "    </button>\n",
              "\n",
              "  <style>\n",
              "    .colab-df-container {\n",
              "      display:flex;\n",
              "      gap: 12px;\n",
              "    }\n",
              "\n",
              "    .colab-df-convert {\n",
              "      background-color: #E8F0FE;\n",
              "      border: none;\n",
              "      border-radius: 50%;\n",
              "      cursor: pointer;\n",
              "      display: none;\n",
              "      fill: #1967D2;\n",
              "      height: 32px;\n",
              "      padding: 0 0 0 0;\n",
              "      width: 32px;\n",
              "    }\n",
              "\n",
              "    .colab-df-convert:hover {\n",
              "      background-color: #E2EBFA;\n",
              "      box-shadow: 0px 1px 2px rgba(60, 64, 67, 0.3), 0px 1px 3px 1px rgba(60, 64, 67, 0.15);\n",
              "      fill: #174EA6;\n",
              "    }\n",
              "\n",
              "    .colab-df-buttons div {\n",
              "      margin-bottom: 4px;\n",
              "    }\n",
              "\n",
              "    [theme=dark] .colab-df-convert {\n",
              "      background-color: #3B4455;\n",
              "      fill: #D2E3FC;\n",
              "    }\n",
              "\n",
              "    [theme=dark] .colab-df-convert:hover {\n",
              "      background-color: #434B5C;\n",
              "      box-shadow: 0px 1px 3px 1px rgba(0, 0, 0, 0.15);\n",
              "      filter: drop-shadow(0px 1px 2px rgba(0, 0, 0, 0.3));\n",
              "      fill: #FFFFFF;\n",
              "    }\n",
              "  </style>\n",
              "\n",
              "    <script>\n",
              "      const buttonEl =\n",
              "        document.querySelector('#df-9f032024-b5db-4aaa-9969-6dd44962d99f button.colab-df-convert');\n",
              "      buttonEl.style.display =\n",
              "        google.colab.kernel.accessAllowed ? 'block' : 'none';\n",
              "\n",
              "      async function convertToInteractive(key) {\n",
              "        const element = document.querySelector('#df-9f032024-b5db-4aaa-9969-6dd44962d99f');\n",
              "        const dataTable =\n",
              "          await google.colab.kernel.invokeFunction('convertToInteractive',\n",
              "                                                    [key], {});\n",
              "        if (!dataTable) return;\n",
              "\n",
              "        const docLinkHtml = 'Like what you see? Visit the ' +\n",
              "          '<a target=\"_blank\" href=https://colab.research.google.com/notebooks/data_table.ipynb>data table notebook</a>'\n",
              "          + ' to learn more about interactive tables.';\n",
              "        element.innerHTML = '';\n",
              "        dataTable['output_type'] = 'display_data';\n",
              "        await google.colab.output.renderOutput(dataTable, element);\n",
              "        const docLink = document.createElement('div');\n",
              "        docLink.innerHTML = docLinkHtml;\n",
              "        element.appendChild(docLink);\n",
              "      }\n",
              "    </script>\n",
              "  </div>\n",
              "\n",
              "\n",
              "<div id=\"df-32436c21-7c60-4a5a-b9b5-b4d941af0327\">\n",
              "  <button class=\"colab-df-quickchart\" onclick=\"quickchart('df-32436c21-7c60-4a5a-b9b5-b4d941af0327')\"\n",
              "            title=\"Suggest charts\"\n",
              "            style=\"display:none;\">\n",
              "\n",
              "<svg xmlns=\"http://www.w3.org/2000/svg\" height=\"24px\"viewBox=\"0 0 24 24\"\n",
              "     width=\"24px\">\n",
              "    <g>\n",
              "        <path d=\"M19 3H5c-1.1 0-2 .9-2 2v14c0 1.1.9 2 2 2h14c1.1 0 2-.9 2-2V5c0-1.1-.9-2-2-2zM9 17H7v-7h2v7zm4 0h-2V7h2v10zm4 0h-2v-4h2v4z\"/>\n",
              "    </g>\n",
              "</svg>\n",
              "  </button>\n",
              "\n",
              "<style>\n",
              "  .colab-df-quickchart {\n",
              "      --bg-color: #E8F0FE;\n",
              "      --fill-color: #1967D2;\n",
              "      --hover-bg-color: #E2EBFA;\n",
              "      --hover-fill-color: #174EA6;\n",
              "      --disabled-fill-color: #AAA;\n",
              "      --disabled-bg-color: #DDD;\n",
              "  }\n",
              "\n",
              "  [theme=dark] .colab-df-quickchart {\n",
              "      --bg-color: #3B4455;\n",
              "      --fill-color: #D2E3FC;\n",
              "      --hover-bg-color: #434B5C;\n",
              "      --hover-fill-color: #FFFFFF;\n",
              "      --disabled-bg-color: #3B4455;\n",
              "      --disabled-fill-color: #666;\n",
              "  }\n",
              "\n",
              "  .colab-df-quickchart {\n",
              "    background-color: var(--bg-color);\n",
              "    border: none;\n",
              "    border-radius: 50%;\n",
              "    cursor: pointer;\n",
              "    display: none;\n",
              "    fill: var(--fill-color);\n",
              "    height: 32px;\n",
              "    padding: 0;\n",
              "    width: 32px;\n",
              "  }\n",
              "\n",
              "  .colab-df-quickchart:hover {\n",
              "    background-color: var(--hover-bg-color);\n",
              "    box-shadow: 0 1px 2px rgba(60, 64, 67, 0.3), 0 1px 3px 1px rgba(60, 64, 67, 0.15);\n",
              "    fill: var(--button-hover-fill-color);\n",
              "  }\n",
              "\n",
              "  .colab-df-quickchart-complete:disabled,\n",
              "  .colab-df-quickchart-complete:disabled:hover {\n",
              "    background-color: var(--disabled-bg-color);\n",
              "    fill: var(--disabled-fill-color);\n",
              "    box-shadow: none;\n",
              "  }\n",
              "\n",
              "  .colab-df-spinner {\n",
              "    border: 2px solid var(--fill-color);\n",
              "    border-color: transparent;\n",
              "    border-bottom-color: var(--fill-color);\n",
              "    animation:\n",
              "      spin 1s steps(1) infinite;\n",
              "  }\n",
              "\n",
              "  @keyframes spin {\n",
              "    0% {\n",
              "      border-color: transparent;\n",
              "      border-bottom-color: var(--fill-color);\n",
              "      border-left-color: var(--fill-color);\n",
              "    }\n",
              "    20% {\n",
              "      border-color: transparent;\n",
              "      border-left-color: var(--fill-color);\n",
              "      border-top-color: var(--fill-color);\n",
              "    }\n",
              "    30% {\n",
              "      border-color: transparent;\n",
              "      border-left-color: var(--fill-color);\n",
              "      border-top-color: var(--fill-color);\n",
              "      border-right-color: var(--fill-color);\n",
              "    }\n",
              "    40% {\n",
              "      border-color: transparent;\n",
              "      border-right-color: var(--fill-color);\n",
              "      border-top-color: var(--fill-color);\n",
              "    }\n",
              "    60% {\n",
              "      border-color: transparent;\n",
              "      border-right-color: var(--fill-color);\n",
              "    }\n",
              "    80% {\n",
              "      border-color: transparent;\n",
              "      border-right-color: var(--fill-color);\n",
              "      border-bottom-color: var(--fill-color);\n",
              "    }\n",
              "    90% {\n",
              "      border-color: transparent;\n",
              "      border-bottom-color: var(--fill-color);\n",
              "    }\n",
              "  }\n",
              "</style>\n",
              "\n",
              "  <script>\n",
              "    async function quickchart(key) {\n",
              "      const quickchartButtonEl =\n",
              "        document.querySelector('#' + key + ' button');\n",
              "      quickchartButtonEl.disabled = true;  // To prevent multiple clicks.\n",
              "      quickchartButtonEl.classList.add('colab-df-spinner');\n",
              "      try {\n",
              "        const charts = await google.colab.kernel.invokeFunction(\n",
              "            'suggestCharts', [key], {});\n",
              "      } catch (error) {\n",
              "        console.error('Error during call to suggestCharts:', error);\n",
              "      }\n",
              "      quickchartButtonEl.classList.remove('colab-df-spinner');\n",
              "      quickchartButtonEl.classList.add('colab-df-quickchart-complete');\n",
              "    }\n",
              "    (() => {\n",
              "      let quickchartButtonEl =\n",
              "        document.querySelector('#df-32436c21-7c60-4a5a-b9b5-b4d941af0327 button');\n",
              "      quickchartButtonEl.style.display =\n",
              "        google.colab.kernel.accessAllowed ? 'block' : 'none';\n",
              "    })();\n",
              "  </script>\n",
              "</div>\n",
              "\n",
              "    </div>\n",
              "  </div>\n"
            ],
            "application/vnd.google.colaboratory.intrinsic+json": {
              "type": "dataframe",
              "summary": "{\n  \"name\": \"data\",\n  \"rows\": 8,\n  \"fields\": [\n    {\n      \"column\": \"Prices\",\n      \"properties\": {\n        \"dtype\": \"number\",\n        \"std\": 14.040087313383777,\n        \"min\": 0.7578973105463122,\n        \"max\": 48.0,\n        \"num_unique_values\": 8,\n        \"samples\": [\n          11.207083333333332,\n          11.3,\n          48.0\n        ],\n        \"semantic_type\": \"\",\n        \"description\": \"\"\n      }\n    }\n  ]\n}"
            }
          },
          "metadata": {},
          "execution_count": 33
        }
      ]
    },
    {
      "cell_type": "code",
      "source": [
        "data.describe()\n"
      ],
      "metadata": {
        "colab": {
          "base_uri": "https://localhost:8080/",
          "height": 300
        },
        "id": "D3DWvFOfmfTs",
        "outputId": "4340e919-19f8-48ab-de26-5db87e062454"
      },
      "execution_count": null,
      "outputs": [
        {
          "output_type": "execute_result",
          "data": {
            "text/plain": [
              "          Prices\n",
              "count  48.000000\n",
              "mean   11.207083\n",
              "std     0.757897\n",
              "min     9.840000\n",
              "25%    10.650000\n",
              "50%    11.300000\n",
              "75%    11.625000\n",
              "max    12.800000"
            ],
            "text/html": [
              "\n",
              "  <div id=\"df-b999e38c-b644-4cb1-bcf6-f7d622ecaddc\" class=\"colab-df-container\">\n",
              "    <div>\n",
              "<style scoped>\n",
              "    .dataframe tbody tr th:only-of-type {\n",
              "        vertical-align: middle;\n",
              "    }\n",
              "\n",
              "    .dataframe tbody tr th {\n",
              "        vertical-align: top;\n",
              "    }\n",
              "\n",
              "    .dataframe thead th {\n",
              "        text-align: right;\n",
              "    }\n",
              "</style>\n",
              "<table border=\"1\" class=\"dataframe\">\n",
              "  <thead>\n",
              "    <tr style=\"text-align: right;\">\n",
              "      <th></th>\n",
              "      <th>Prices</th>\n",
              "    </tr>\n",
              "  </thead>\n",
              "  <tbody>\n",
              "    <tr>\n",
              "      <th>count</th>\n",
              "      <td>48.000000</td>\n",
              "    </tr>\n",
              "    <tr>\n",
              "      <th>mean</th>\n",
              "      <td>11.207083</td>\n",
              "    </tr>\n",
              "    <tr>\n",
              "      <th>std</th>\n",
              "      <td>0.757897</td>\n",
              "    </tr>\n",
              "    <tr>\n",
              "      <th>min</th>\n",
              "      <td>9.840000</td>\n",
              "    </tr>\n",
              "    <tr>\n",
              "      <th>25%</th>\n",
              "      <td>10.650000</td>\n",
              "    </tr>\n",
              "    <tr>\n",
              "      <th>50%</th>\n",
              "      <td>11.300000</td>\n",
              "    </tr>\n",
              "    <tr>\n",
              "      <th>75%</th>\n",
              "      <td>11.625000</td>\n",
              "    </tr>\n",
              "    <tr>\n",
              "      <th>max</th>\n",
              "      <td>12.800000</td>\n",
              "    </tr>\n",
              "  </tbody>\n",
              "</table>\n",
              "</div>\n",
              "    <div class=\"colab-df-buttons\">\n",
              "\n",
              "  <div class=\"colab-df-container\">\n",
              "    <button class=\"colab-df-convert\" onclick=\"convertToInteractive('df-b999e38c-b644-4cb1-bcf6-f7d622ecaddc')\"\n",
              "            title=\"Convert this dataframe to an interactive table.\"\n",
              "            style=\"display:none;\">\n",
              "\n",
              "  <svg xmlns=\"http://www.w3.org/2000/svg\" height=\"24px\" viewBox=\"0 -960 960 960\">\n",
              "    <path d=\"M120-120v-720h720v720H120Zm60-500h600v-160H180v160Zm220 220h160v-160H400v160Zm0 220h160v-160H400v160ZM180-400h160v-160H180v160Zm440 0h160v-160H620v160ZM180-180h160v-160H180v160Zm440 0h160v-160H620v160Z\"/>\n",
              "  </svg>\n",
              "    </button>\n",
              "\n",
              "  <style>\n",
              "    .colab-df-container {\n",
              "      display:flex;\n",
              "      gap: 12px;\n",
              "    }\n",
              "\n",
              "    .colab-df-convert {\n",
              "      background-color: #E8F0FE;\n",
              "      border: none;\n",
              "      border-radius: 50%;\n",
              "      cursor: pointer;\n",
              "      display: none;\n",
              "      fill: #1967D2;\n",
              "      height: 32px;\n",
              "      padding: 0 0 0 0;\n",
              "      width: 32px;\n",
              "    }\n",
              "\n",
              "    .colab-df-convert:hover {\n",
              "      background-color: #E2EBFA;\n",
              "      box-shadow: 0px 1px 2px rgba(60, 64, 67, 0.3), 0px 1px 3px 1px rgba(60, 64, 67, 0.15);\n",
              "      fill: #174EA6;\n",
              "    }\n",
              "\n",
              "    .colab-df-buttons div {\n",
              "      margin-bottom: 4px;\n",
              "    }\n",
              "\n",
              "    [theme=dark] .colab-df-convert {\n",
              "      background-color: #3B4455;\n",
              "      fill: #D2E3FC;\n",
              "    }\n",
              "\n",
              "    [theme=dark] .colab-df-convert:hover {\n",
              "      background-color: #434B5C;\n",
              "      box-shadow: 0px 1px 3px 1px rgba(0, 0, 0, 0.15);\n",
              "      filter: drop-shadow(0px 1px 2px rgba(0, 0, 0, 0.3));\n",
              "      fill: #FFFFFF;\n",
              "    }\n",
              "  </style>\n",
              "\n",
              "    <script>\n",
              "      const buttonEl =\n",
              "        document.querySelector('#df-b999e38c-b644-4cb1-bcf6-f7d622ecaddc button.colab-df-convert');\n",
              "      buttonEl.style.display =\n",
              "        google.colab.kernel.accessAllowed ? 'block' : 'none';\n",
              "\n",
              "      async function convertToInteractive(key) {\n",
              "        const element = document.querySelector('#df-b999e38c-b644-4cb1-bcf6-f7d622ecaddc');\n",
              "        const dataTable =\n",
              "          await google.colab.kernel.invokeFunction('convertToInteractive',\n",
              "                                                    [key], {});\n",
              "        if (!dataTable) return;\n",
              "\n",
              "        const docLinkHtml = 'Like what you see? Visit the ' +\n",
              "          '<a target=\"_blank\" href=https://colab.research.google.com/notebooks/data_table.ipynb>data table notebook</a>'\n",
              "          + ' to learn more about interactive tables.';\n",
              "        element.innerHTML = '';\n",
              "        dataTable['output_type'] = 'display_data';\n",
              "        await google.colab.output.renderOutput(dataTable, element);\n",
              "        const docLink = document.createElement('div');\n",
              "        docLink.innerHTML = docLinkHtml;\n",
              "        element.appendChild(docLink);\n",
              "      }\n",
              "    </script>\n",
              "  </div>\n",
              "\n",
              "\n",
              "<div id=\"df-4db125df-7b6c-45ee-ad0a-03ad9de834e1\">\n",
              "  <button class=\"colab-df-quickchart\" onclick=\"quickchart('df-4db125df-7b6c-45ee-ad0a-03ad9de834e1')\"\n",
              "            title=\"Suggest charts\"\n",
              "            style=\"display:none;\">\n",
              "\n",
              "<svg xmlns=\"http://www.w3.org/2000/svg\" height=\"24px\"viewBox=\"0 0 24 24\"\n",
              "     width=\"24px\">\n",
              "    <g>\n",
              "        <path d=\"M19 3H5c-1.1 0-2 .9-2 2v14c0 1.1.9 2 2 2h14c1.1 0 2-.9 2-2V5c0-1.1-.9-2-2-2zM9 17H7v-7h2v7zm4 0h-2V7h2v10zm4 0h-2v-4h2v4z\"/>\n",
              "    </g>\n",
              "</svg>\n",
              "  </button>\n",
              "\n",
              "<style>\n",
              "  .colab-df-quickchart {\n",
              "      --bg-color: #E8F0FE;\n",
              "      --fill-color: #1967D2;\n",
              "      --hover-bg-color: #E2EBFA;\n",
              "      --hover-fill-color: #174EA6;\n",
              "      --disabled-fill-color: #AAA;\n",
              "      --disabled-bg-color: #DDD;\n",
              "  }\n",
              "\n",
              "  [theme=dark] .colab-df-quickchart {\n",
              "      --bg-color: #3B4455;\n",
              "      --fill-color: #D2E3FC;\n",
              "      --hover-bg-color: #434B5C;\n",
              "      --hover-fill-color: #FFFFFF;\n",
              "      --disabled-bg-color: #3B4455;\n",
              "      --disabled-fill-color: #666;\n",
              "  }\n",
              "\n",
              "  .colab-df-quickchart {\n",
              "    background-color: var(--bg-color);\n",
              "    border: none;\n",
              "    border-radius: 50%;\n",
              "    cursor: pointer;\n",
              "    display: none;\n",
              "    fill: var(--fill-color);\n",
              "    height: 32px;\n",
              "    padding: 0;\n",
              "    width: 32px;\n",
              "  }\n",
              "\n",
              "  .colab-df-quickchart:hover {\n",
              "    background-color: var(--hover-bg-color);\n",
              "    box-shadow: 0 1px 2px rgba(60, 64, 67, 0.3), 0 1px 3px 1px rgba(60, 64, 67, 0.15);\n",
              "    fill: var(--button-hover-fill-color);\n",
              "  }\n",
              "\n",
              "  .colab-df-quickchart-complete:disabled,\n",
              "  .colab-df-quickchart-complete:disabled:hover {\n",
              "    background-color: var(--disabled-bg-color);\n",
              "    fill: var(--disabled-fill-color);\n",
              "    box-shadow: none;\n",
              "  }\n",
              "\n",
              "  .colab-df-spinner {\n",
              "    border: 2px solid var(--fill-color);\n",
              "    border-color: transparent;\n",
              "    border-bottom-color: var(--fill-color);\n",
              "    animation:\n",
              "      spin 1s steps(1) infinite;\n",
              "  }\n",
              "\n",
              "  @keyframes spin {\n",
              "    0% {\n",
              "      border-color: transparent;\n",
              "      border-bottom-color: var(--fill-color);\n",
              "      border-left-color: var(--fill-color);\n",
              "    }\n",
              "    20% {\n",
              "      border-color: transparent;\n",
              "      border-left-color: var(--fill-color);\n",
              "      border-top-color: var(--fill-color);\n",
              "    }\n",
              "    30% {\n",
              "      border-color: transparent;\n",
              "      border-left-color: var(--fill-color);\n",
              "      border-top-color: var(--fill-color);\n",
              "      border-right-color: var(--fill-color);\n",
              "    }\n",
              "    40% {\n",
              "      border-color: transparent;\n",
              "      border-right-color: var(--fill-color);\n",
              "      border-top-color: var(--fill-color);\n",
              "    }\n",
              "    60% {\n",
              "      border-color: transparent;\n",
              "      border-right-color: var(--fill-color);\n",
              "    }\n",
              "    80% {\n",
              "      border-color: transparent;\n",
              "      border-right-color: var(--fill-color);\n",
              "      border-bottom-color: var(--fill-color);\n",
              "    }\n",
              "    90% {\n",
              "      border-color: transparent;\n",
              "      border-bottom-color: var(--fill-color);\n",
              "    }\n",
              "  }\n",
              "</style>\n",
              "\n",
              "  <script>\n",
              "    async function quickchart(key) {\n",
              "      const quickchartButtonEl =\n",
              "        document.querySelector('#' + key + ' button');\n",
              "      quickchartButtonEl.disabled = true;  // To prevent multiple clicks.\n",
              "      quickchartButtonEl.classList.add('colab-df-spinner');\n",
              "      try {\n",
              "        const charts = await google.colab.kernel.invokeFunction(\n",
              "            'suggestCharts', [key], {});\n",
              "      } catch (error) {\n",
              "        console.error('Error during call to suggestCharts:', error);\n",
              "      }\n",
              "      quickchartButtonEl.classList.remove('colab-df-spinner');\n",
              "      quickchartButtonEl.classList.add('colab-df-quickchart-complete');\n",
              "    }\n",
              "    (() => {\n",
              "      let quickchartButtonEl =\n",
              "        document.querySelector('#df-4db125df-7b6c-45ee-ad0a-03ad9de834e1 button');\n",
              "      quickchartButtonEl.style.display =\n",
              "        google.colab.kernel.accessAllowed ? 'block' : 'none';\n",
              "    })();\n",
              "  </script>\n",
              "</div>\n",
              "\n",
              "    </div>\n",
              "  </div>\n"
            ],
            "application/vnd.google.colaboratory.intrinsic+json": {
              "type": "dataframe",
              "summary": "{\n  \"name\": \"data\",\n  \"rows\": 8,\n  \"fields\": [\n    {\n      \"column\": \"Prices\",\n      \"properties\": {\n        \"dtype\": \"number\",\n        \"std\": 14.040087313383777,\n        \"min\": 0.7578973105463122,\n        \"max\": 48.0,\n        \"num_unique_values\": 8,\n        \"samples\": [\n          11.207083333333332,\n          11.3,\n          48.0\n        ],\n        \"semantic_type\": \"\",\n        \"description\": \"\"\n      }\n    }\n  ]\n}"
            }
          },
          "metadata": {},
          "execution_count": 34
        }
      ]
    },
    {
      "cell_type": "code",
      "source": [
        "#Convert 'Dates' to datetime format and set index\n",
        "data['Dates'] = pd.to_datetime(data['Dates']) + MonthEnd(0)\n",
        "data.set_index('Dates', inplace=True)"
      ],
      "metadata": {
        "colab": {
          "base_uri": "https://localhost:8080/"
        },
        "id": "CfqMIXPzz1ZU",
        "outputId": "18b6af8c-fca1-4145-f366-5e124ee33307"
      },
      "execution_count": null,
      "outputs": [
        {
          "output_type": "stream",
          "name": "stderr",
          "text": [
            "<ipython-input-21-de7920bbe36a>:2: UserWarning: Could not infer format, so each element will be parsed individually, falling back to `dateutil`. To ensure parsing is consistent and as-expected, please specify a format.\n",
            "  data['Dates'] = pd.to_datetime(data['Dates']) + MonthEnd(0)\n"
          ]
        }
      ]
    },
    {
      "cell_type": "markdown",
      "source": [
        "- Ensure 'Dates' are in a standard datetime format and aligned to month-end, as the data represents monthly snapshots.\n",
        "- Set 'Dates' as the index to make it easier to perform time series operations like forecasting and visualization."
      ],
      "metadata": {
        "id": "qr9U1F5F0DvR"
      }
    },
    {
      "cell_type": "markdown",
      "source": [
        "# Initial Visualisaiton  \n",
        "- We visualise the above data to understand any underlying trends, seasonality or irregularities.\n",
        "- These initial plots provide insights into whether prices are stationary, which informs the ARIMA model selection."
      ],
      "metadata": {
        "id": "5wSByytK0cba"
      }
    },
    {
      "cell_type": "code",
      "source": [
        "#VISUALISE OBSERVED DATA\n",
        "\n",
        "plt.figure(figsize=(12, 6))\n",
        "plt.plot(data.index, data['Prices'], marker='o', label='Observed Prices')\n",
        "plt.title('Natural Gas Prices Over Time')\n",
        "plt.xlabel('Date')\n",
        "plt.ylabel('Price (USD)')\n",
        "plt.grid()\n",
        "plt.legend()\n",
        "plt.show()\n"
      ],
      "metadata": {
        "colab": {
          "base_uri": "https://localhost:8080/",
          "height": 564
        },
        "id": "z3Ip5XHD3XhJ",
        "outputId": "daa39c30-d439-4e44-de65-170b4532a9d6"
      },
      "execution_count": null,
      "outputs": [
        {
          "output_type": "display_data",
          "data": {
            "text/plain": [
              "<Figure size 1200x600 with 1 Axes>"
            ],
            "image/png": "[encoded data removed]"
          },
          "metadata": {}
        }
      ]
    },
    {
      "cell_type": "markdown",
      "source": [
        "# Seasonal Decomposition\n",
        "\n",
        "## Decomposing the time series helps us to break the data into trend, seasonality and residuals, offering deeper insights into components influencing price movements.\n",
        "\n",
        "## In the seasonal chart, we can see the price of oil goes through cycles, suggesting that a standard ARIMA model is not best to be applied here, rather, we can use a Seasonal ARIMA(SARIMA) model.\n",
        "\n",
        "## We can further confirm the seasonal nature of the dataset using the ADF test below.\n"
      ],
      "metadata": {
        "id": "WYWKxAGG04I9"
      }
    },
    {
      "cell_type": "code",
      "source": [
        "# Decompose the time series\n",
        "decomposition = seasonal_decompose(data['Prices'], model='additive', period=12)\n",
        "\n",
        "# Plot decomposition\n",
        "decomposition.plot()\n",
        "plt.show()\n"
      ],
      "metadata": {
        "colab": {
          "base_uri": "https://localhost:8080/",
          "height": 487
        },
        "id": "CbkX2_8F3cOT",
        "outputId": "a7fbbdf0-c183-481c-f149-0ea71ffcc8a0"
      },
      "execution_count": null,
      "outputs": [
        {
          "output_type": "display_data",
          "data": {
            "text/plain": [
              "<Figure size 640x480 with 4 Axes>"
            ],
            "image/png": "[encoded data removed]"
          },
          "metadata": {}
        }
      ]
    },
    {
      "cell_type": "markdown",
      "source": [
        "# Stationarity Check"
      ],
      "metadata": {
        "id": "MHkDHk80n58G"
      }
    },
    {
      "cell_type": "code",
      "source": [
        "# Function to check stationarity\n",
        "def check_stationarity(timeseries):\n",
        "    adf_test = adfuller(timeseries.dropna())\n",
        "    p_value = adf_test[1]\n",
        "\n",
        "    print(\"ADF Statistic:\", adf_test[0])\n",
        "    print(\"p-value:\", p_value)\n",
        "\n",
        "    if p_value < 0.05:\n",
        "        print(\"The data is stationary (reject null hypothesis).\")\n",
        "        return True\n",
        "    else:\n",
        "        print(\"The data is not stationary (fail to reject null hypothesis).\")\n",
        "        return False\n",
        "\n",
        "# Check if the original data is stationary\n",
        "print(\"Checking stationarity of the original data:\")\n",
        "is_stationary = check_stationarity(data['Prices'])\n"
      ],
      "metadata": {
        "colab": {
          "base_uri": "https://localhost:8080/"
        },
        "id": "_GlLe4SaBZYw",
        "outputId": "50c52840-a624-4a6b-a52e-220fc758f294"
      },
      "execution_count": null,
      "outputs": [
        {
          "output_type": "stream",
          "name": "stdout",
          "text": [
            "Checking stationarity of the original data:\n",
            "ADF Statistic: 0.21807686169999427\n",
            "p-value: 0.973257438844869\n",
            "The data is not stationary (fail to reject null hypothesis).\n"
          ]
        }
      ]
    },
    {
      "cell_type": "markdown",
      "source": [
        "- We use the ADF test to see if the original dataset has stationarity, to see if ARIMA model would be suitable for it.\n",
        "- As we can see, the p-value is more than 0.05, suggesting the data is not stationary, and with a high p-value of 0.973, it indicates that there is a high likelihood of seasonality present in this data.\n",
        "- Therefore, a Seasonal ARIMA(SARIMA) model would be more fitting."
      ],
      "metadata": {
        "id": "_viUMW8mFjMx"
      }
    },
    {
      "cell_type": "markdown",
      "source": [
        "### SARIMA models require us to select 7 parameters: \\(p, d, q\\) for the non-seasonal component, and \\(P, D, Q, s\\) for the seasonal component.\n",
        "\n",
        "- Manually choosing the best combination of these parameters can be challenging, especially for datasets with strong seasonal patterns.\n",
        "- We can use `auto_arima` to automate this process by testing various combinations of both non-seasonal and seasonal parameters and selecting the optimal configuration based on statistical metrics like AIC (Akaike Information Criterion).\n",
        "- This automation saves time and ensures the model is tuned effectively for both trends and seasonality in the data."
      ],
      "metadata": {
        "id": "E9OBL6Vl1cGi"
      }
    },
    {
      "cell_type": "code",
      "source": [
        "# Determine seasonal parameters with auto_arima\n",
        "sarima_model = auto_arima(\n",
        "    data['Prices'],\n",
        "    seasonal=True,        # Enable seasonal ARIMA\n",
        "    m=12,                 # Seasonal period (12 months)\n",
        "    trace=True,           # Display fitting process\n",
        "    suppress_warnings=True,\n",
        "    stepwise=True         # Stepwise search for parameters\n",
        ")\n",
        "\n",
        "print(f\"Selected SARIMA order: {sarima_model.order} Seasonal order: {sarima_model.seasonal_order}\")\n"
      ],
      "metadata": {
        "id": "b3GVMO7gi2XS",
        "colab": {
          "base_uri": "https://localhost:8080/"
        },
        "outputId": "c7444526-22bc-4361-b919-abdf38053f00"
      },
      "execution_count": null,
      "outputs": [
        {
          "output_type": "stream",
          "name": "stdout",
          "text": [
            "Performing stepwise search to minimize aic\n",
            " ARIMA(2,1,2)(1,0,1)[12] intercept   : AIC=37.147, Time=2.71 sec\n",
            " ARIMA(0,1,0)(0,0,0)[12] intercept   : AIC=48.334, Time=0.09 sec\n",
            " ARIMA(1,1,0)(1,0,0)[12] intercept   : AIC=38.394, Time=0.34 sec\n",
            " ARIMA(0,1,1)(0,0,1)[12] intercept   : AIC=42.336, Time=1.33 sec\n",
            " ARIMA(0,1,0)(0,0,0)[12]             : AIC=46.741, Time=0.09 sec\n",
            " ARIMA(2,1,2)(0,0,1)[12] intercept   : AIC=inf, Time=4.70 sec\n",
            " ARIMA(2,1,2)(1,0,0)[12] intercept   : AIC=inf, Time=2.17 sec\n",
            " ARIMA(2,1,2)(2,0,1)[12] intercept   : AIC=39.069, Time=9.46 sec\n",
            " ARIMA(2,1,2)(1,0,2)[12] intercept   : AIC=38.330, Time=6.40 sec\n",
            " ARIMA(2,1,2)(0,0,0)[12] intercept   : AIC=36.109, Time=0.41 sec\n",
            " ARIMA(1,1,2)(0,0,0)[12] intercept   : AIC=53.197, Time=0.11 sec\n",
            " ARIMA(2,1,1)(0,0,0)[12] intercept   : AIC=53.566, Time=0.08 sec\n",
            " ARIMA(3,1,2)(0,0,0)[12] intercept   : AIC=53.701, Time=0.24 sec\n",
            " ARIMA(2,1,3)(0,0,0)[12] intercept   : AIC=53.674, Time=0.22 sec\n",
            " ARIMA(1,1,1)(0,0,0)[12] intercept   : AIC=51.953, Time=0.08 sec\n",
            " ARIMA(1,1,3)(0,0,0)[12] intercept   : AIC=54.043, Time=0.19 sec\n",
            " ARIMA(3,1,1)(0,0,0)[12] intercept   : AIC=inf, Time=0.32 sec\n",
            " ARIMA(3,1,3)(0,0,0)[12] intercept   : AIC=inf, Time=0.42 sec\n",
            " ARIMA(2,1,2)(0,0,0)[12]             : AIC=inf, Time=0.27 sec\n",
            "\n",
            "Best model:  ARIMA(2,1,2)(0,0,0)[12] intercept\n",
            "Total fit time: 29.733 seconds\n",
            "Selected SARIMA order: (2, 1, 2) Seasonal order: (0, 0, 0, 12)\n"
          ]
        }
      ]
    },
    {
      "cell_type": "markdown",
      "source": [
        "# Adjusted for SARIMA Context\n",
        "\n",
        "## As we now have both the ARIMA and seasonal parameters (`order` and `seasonal_order`) from the `auto_model` object's attributes, we can use them as the selected orders and fit the SARIMA model to the data.\n",
        "- **Fitting the SARIMA model** allows us to capture both the **seasonal patterns** and the **trends** in the data, making it more suitable for datasets with recurring fluctuations like natural gas prices.\n",
        "- Therefore, we generate a **forecast for the next 12 months** while accounting for seasonality and trends.\n",
        "- The **confidence intervals** provide insights into the uncertainty of the forecasts, offering a range for the expected values. This is especially valuable in decision-making scenarios where understanding prediction reliability is critical.\n",
        "\n",
        "This explanation highlights SARIMA's ability to handle seasonality, enhancing its relevance to the dataset at hand."
      ],
      "metadata": {
        "id": "r54tH0jz2bnj"
      }
    },
    {
      "cell_type": "code",
      "source": [
        "#Fit the SARIMA model\n",
        "sarima = SARIMAX(data['Prices'],\n",
        "                 order=sarima_model.order,\n",
        "                 seasonal_order=sarima_model.seasonal_order)\n",
        "sarima_result = sarima.fit()\n",
        "\n",
        "\n",
        "print(sarima_result.summary())"
      ],
      "metadata": {
        "colab": {
          "base_uri": "https://localhost:8080/"
        },
        "id": "gFbzqDGH3dVM",
        "outputId": "3c1d830e-0f1c-454b-a7d2-74bf0ac63281"
      },
      "execution_count": null,
      "outputs": [
        {
          "output_type": "stream",
          "name": "stderr",
          "text": [
            "/usr/local/lib/python3.10/dist-packages/statsmodels/tsa/base/tsa_model.py:473: ValueWarning: No frequency information was provided, so inferred frequency ME will be used.\n",
            "  self._init_dates(dates, freq)\n",
            "/usr/local/lib/python3.10/dist-packages/statsmodels/tsa/base/tsa_model.py:473: ValueWarning: No frequency information was provided, so inferred frequency ME will be used.\n",
            "  self._init_dates(dates, freq)\n",
            "/usr/local/lib/python3.10/dist-packages/statsmodels/tsa/statespace/sarimax.py:966: UserWarning: Non-stationary starting autoregressive parameters found. Using zeros as starting parameters.\n",
            "  warn('Non-stationary starting autoregressive parameters'\n",
            "/usr/local/lib/python3.10/dist-packages/statsmodels/tsa/statespace/sarimax.py:978: UserWarning: Non-invertible starting MA parameters found. Using zeros as starting parameters.\n",
            "  warn('Non-invertible starting MA parameters found.'\n"
          ]
        },
        {
          "output_type": "stream",
          "name": "stdout",
          "text": [
            "                               SARIMAX Results                                \n",
            "==============================================================================\n",
            "Dep. Variable:                 Prices   No. Observations:                   48\n",
            "Model:               SARIMAX(2, 1, 2)   Log Likelihood                 -12.902\n",
            "Date:                Fri, 22 Nov 2024   AIC                             35.804\n",
            "Time:                        01:53:18   BIC                             45.055\n",
            "Sample:                    10-31-2020   HQIC                            39.285\n",
            "                         - 09-30-2024                                         \n",
            "Covariance Type:                  opg                                         \n",
            "==============================================================================\n",
            "                 coef    std err          z      P>|z|      [0.025      0.975]\n",
            "------------------------------------------------------------------------------\n",
            "ar.L1          1.7071      0.054     31.614      0.000       1.601       1.813\n",
            "ar.L2         -0.9694      0.052    -18.494      0.000      -1.072      -0.867\n",
            "ma.L1         -1.8219      1.912     -0.953      0.341      -5.569       1.925\n",
            "ma.L2          0.9911      2.102      0.472      0.637      -3.128       5.110\n",
            "sigma2         0.0901      0.184      0.489      0.625      -0.271       0.451\n",
            "===================================================================================\n",
            "Ljung-Box (L1) (Q):                   6.85   Jarque-Bera (JB):                 2.36\n",
            "Prob(Q):                              0.01   Prob(JB):                         0.31\n",
            "Heteroskedasticity (H):               0.79   Skew:                             0.53\n",
            "Prob(H) (two-sided):                  0.64   Kurtosis:                         2.74\n",
            "===================================================================================\n",
            "\n",
            "Warnings:\n",
            "[1] Covariance matrix calculated using the outer product of gradients (complex-step).\n"
          ]
        },
        {
          "output_type": "stream",
          "name": "stderr",
          "text": [
            "/usr/local/lib/python3.10/dist-packages/statsmodels/base/model.py:607: ConvergenceWarning: Maximum Likelihood optimization failed to converge. Check mle_retvals\n",
            "  warnings.warn(\"Maximum Likelihood optimization failed to \"\n"
          ]
        }
      ]
    },
    {
      "cell_type": "code",
      "source": [
        "# Plot observed and forecasted data with confidence intervals\n",
        "plt.figure(figsize=(12, 6))\n",
        "plt.plot(data.index, data['Prices'], marker='o', label='Observed Prices')\n",
        "plt.plot(forecast_series.index, forecast_series, linestyle='--', marker='o', label='Forecast Prices')\n",
        "plt.fill_between(forecast_series.index, conf_int.iloc[:, 0], conf_int.iloc[:, 1], color='gray', alpha=0.2, label='95% Confidence Interval')\n",
        "plt.title('Natural Gas Prices with SARIMA Forecast')\n",
        "plt.xlabel('Date')\n",
        "plt.ylabel('Price (USD)')\n",
        "plt.grid()\n",
        "plt.legend()\n",
        "plt.show()\n"
      ],
      "metadata": {
        "colab": {
          "base_uri": "https://localhost:8080/",
          "height": 564
        },
        "id": "ec_i2yLy3gII",
        "outputId": "3abf710c-d421-4a7b-e2a4-5b97d0263109"
      },
      "execution_count": null,
      "outputs": [
        {
          "output_type": "display_data",
          "data": {
            "text/plain": [
              "<Figure size 1200x600 with 1 Axes>"
            ],
            "image/png": "[encoded data removed]"
          },
          "metadata": {}
        }
      ]
    },
    {
      "cell_type": "markdown",
      "source": [
        "- Combining observed and forecasted data helps visualise how well the model aligns with historical patterns.\n",
        "- Confidence intervals convey the range of uncertainty, making predictions more interpretable."
      ],
      "metadata": {
        "id": "98RDKMBv5Ke6"
      }
    },
    {
      "cell_type": "code",
      "source": [
        "# Split data into training and test sets\n",
        "train_data = data['Prices'][:-12]\n",
        "test_data = data['Prices'][-12:]\n",
        "\n",
        "# Fit SARIMA on training data\n",
        "sarima_train = SARIMAX(train_data,\n",
        "                       order=sarima_model.order,\n",
        "                       seasonal_order=sarima_model.seasonal_order)\n",
        "sarima_train_result = sarima_train.fit()\n",
        "\n",
        "# Predict on test data\n",
        "validation_forecast = sarima_train_result.get_forecast(steps=12).predicted_mean\n",
        "\n",
        "# Compute validation metrics\n",
        "mse = mean_squared_error(test_data, validation_forecast)\n",
        "mae = mean_absolute_error(test_data, validation_forecast)\n",
        "rmse = mean_squared_error(test_data, validation_forecast, squared=False)\n",
        "\n",
        "print(f\"Validation Mean Squared Error (MSE): {mse:.4f}\")\n",
        "print(f\"Validation Mean Absolute Error (MAE): {mae:.4f}\")\n",
        "print(f\"Validation Root Mean Squared Error (RMSE): {rmse:.4f}\")\n"
      ],
      "metadata": {
        "id": "MeYdl7hw3hbl",
        "colab": {
          "base_uri": "https://localhost:8080/"
        },
        "outputId": "51c9d421-1c05-4fb9-d8c4-b36db0e3ee1f"
      },
      "execution_count": null,
      "outputs": [
        {
          "output_type": "stream",
          "name": "stderr",
          "text": [
            "/usr/local/lib/python3.10/dist-packages/statsmodels/tsa/base/tsa_model.py:473: ValueWarning: No frequency information was provided, so inferred frequency ME will be used.\n",
            "  self._init_dates(dates, freq)\n",
            "/usr/local/lib/python3.10/dist-packages/statsmodels/tsa/base/tsa_model.py:473: ValueWarning: No frequency information was provided, so inferred frequency ME will be used.\n",
            "  self._init_dates(dates, freq)\n",
            "/usr/local/lib/python3.10/dist-packages/statsmodels/tsa/statespace/sarimax.py:966: UserWarning: Non-stationary starting autoregressive parameters found. Using zeros as starting parameters.\n",
            "  warn('Non-stationary starting autoregressive parameters'\n",
            "/usr/local/lib/python3.10/dist-packages/statsmodels/tsa/statespace/sarimax.py:978: UserWarning: Non-invertible starting MA parameters found. Using zeros as starting parameters.\n",
            "  warn('Non-invertible starting MA parameters found.'\n"
          ]
        },
        {
          "output_type": "stream",
          "name": "stdout",
          "text": [
            "Validation Mean Squared Error (MSE): 0.5475\n",
            "Validation Mean Absolute Error (MAE): 0.5650\n",
            "Validation Root Mean Squared Error (RMSE): 0.7400\n"
          ]
        },
        {
          "output_type": "stream",
          "name": "stderr",
          "text": [
            "/usr/local/lib/python3.10/dist-packages/statsmodels/base/model.py:607: ConvergenceWarning: Maximum Likelihood optimization failed to converge. Check mle_retvals\n",
            "  warnings.warn(\"Maximum Likelihood optimization failed to \"\n",
            "/usr/local/lib/python3.10/dist-packages/sklearn/metrics/_regression.py:492: FutureWarning: 'squared' is deprecated in version 1.4 and will be removed in 1.6. To calculate the root mean squared error, use the function'root_mean_squared_error'.\n",
            "  warnings.warn(\n"
          ]
        }
      ]
    },
    {
      "cell_type": "code",
      "source": [
        "# Forecast for the next 12 months\n",
        "forecast_obj = sarima_result.get_forecast(steps=12)\n",
        "forecast = forecast_obj.predicted_mean\n",
        "conf_int = forecast_obj.conf_int()\n",
        "forecast_dates = [data.index[-1] + MonthEnd(i) for i in range(1, 13)]\n",
        "forecast_series = pd.Series(forecast.values, index=forecast_dates)"
      ],
      "metadata": {
        "id": "K8xa3L3e3eqI"
      },
      "execution_count": null,
      "outputs": []
    },
    {
      "cell_type": "markdown",
      "source": [
        "# Validation ensures the model's predictions are accurate by comparing them against a test set. Metrics like MSE, MAE, and RMSE quantify this accuracy.\n",
        "\n",
        "### SARIMA Model Validation Results\n",
        "Validation ensures the model's predictions are accurate by comparing them against a test set. Metrics like MSE, MAE, and RMSE quantify this accuracy.\n",
        "\n",
        "- **Validation Mean Squared Error (MSE)**: **0.5475**\n",
        "- **Validation Mean Absolute Error (MAE)**: **0.5650**\n",
        "- **Validation Root Mean Squared Error (RMSE)**: **0.7400**\n",
        "\n",
        "---\n",
        "\n",
        "### **1. Mean Squared Error (MSE)**\n",
        "- **Definition**: The average of the squared differences between predicted and actual values.\n",
        "- **Value**: **0.5475** indicates that, on average, the square of the prediction error is around **0.5475**.\n",
        "- **Interpretation**:\n",
        "  - Smaller MSE values indicate better model performance, as it penalizes larger errors more heavily than smaller ones.\n",
        "  - Since SARIMA incorporates seasonality, this result suggests the model successfully captures recurring seasonal patterns, minimizing large prediction errors.\n",
        "\n",
        "---\n",
        "\n",
        "### **2. Mean Absolute Error (MAE)**\n",
        "- **Definition**: The average of the absolute differences between predicted and actual values.\n",
        "- **Value**: **0.5650** suggests that, on average, the SARIMA model's predictions deviate from the actual values by approximately **0.5650 units of price**.\n",
        "- **Interpretation**:\n",
        "  - MAE being close to the MSE value indicates relatively uniform errors, suggesting the SARIMA model is consistently accurate.\n",
        "  - Since MAE is less sensitive to outliers, this value reinforces that the SARIMA model has no extreme prediction errors.\n",
        "\n",
        "---\n",
        "\n",
        "### **3. Root Mean Squared Error (RMSE)**\n",
        "- **Definition**: The square root of the MSE, providing the error in the same units as the data.\n",
        "- **Value**: **0.7400** indicates that the typical prediction error is approximately **0.74 units of price**.\n",
        "- **Interpretation**:\n",
        "  - RMSE combines the advantages of MSE (penalizing large errors) and MAE (being in the same units as the data), offering a well-rounded measure of model performance.\n",
        "  - RMSE being slightly higher than MAE suggests that the model occasionally makes larger errors, but they are not significant enough to compromise overall accuracy.\n",
        "\n",
        "---\n",
        "\n",
        "### **Key Takeaways**\n",
        "1. **Overall Model Performance**:\n",
        "   - The low MSE, MAE, and RMSE values suggest that the SARIMA model performs well on the test data.\n",
        "   - The results indicate that the SARIMA model captures both seasonal and non-seasonal patterns effectively.\n",
        "\n",
        "2. **Comparison to Data Range**:\n",
        "   - If the price data ranges between **0 and 13**, an RMSE of **0.74** suggests that the model has a small prediction error relative to the overall scale of the data.\n",
        "\n",
        "3. **Improvement Areas**:\n",
        "   - If these errors are still too high for your use case, consider:\n",
        "     - Adding external variables (e.g., economic indicators, weather patterns) to improve the model's explanatory power.\n",
        "     - Using advanced models like SARIMAX (SARIMA with exogenous variables) or machine learning-based forecasting techniques.\n",
        "\n",
        "---\n",
        "\n",
        "### **Conclusion**\n",
        "The SARIMA model demonstrates strong predictive accuracy, leveraging seasonal and non-seasonal components effectively. Its validation metrics indicate reliable performance, making it a robust choice for forecasting natural gas prices in this context."
      ],
      "metadata": {
        "id": "BG7zZoz95fJB"
      }
    },
    {
      "cell_type": "markdown",
      "source": [
        "## This function integrates past data (using interpolation) and future forecasts to estimate prices for arbitrary dates."
      ],
      "metadata": {
        "id": "6jAL7ujh6FWm"
      }
    },
    {
      "cell_type": "code",
      "source": [
        "#Interpolation function for past dates\n",
        "ordinal_dates = data.index.map(pd.Timestamp.toordinal)\n",
        "interpolation_func = interp1d(\n",
        "    ordinal_dates, data['Prices'], kind='linear', fill_value=\"extrapolate\"\n",
        ")\n",
        "\n",
        "\n",
        "#Define 'all_data' (observed + forecasted)\n",
        "# all_data = pd.concat([data['Prices'], forecast_series])\n",
        "\n",
        "def estimate_price(input_date):\n",
        "    \"\"\"\n",
        "    Estimate the natural gas price for a given date.\n",
        "    :param input_date: str, date in the format 'YYYY-MM-DD'\n",
        "    :return: float, estimated price or message if date is invalid\n",
        "    \"\"\"\n",
        "    input_date = pd.to_datetime(input_date) + MonthEnd(0)\n",
        "    input_ordinal = input_date.toordinal()\n",
        "\n",
        "    if input_date in all_data.index:\n",
        "        return all_data.loc[input_date]\n",
        "    elif input_ordinal <= ordinal_dates[-1]:\n",
        "        # Use interpolation for past dates\n",
        "        return interpolation_func(input_ordinal)\n",
        "    elif input_date in forecast_series.index:\n",
        "        # Use forecast for future dates\n",
        "        return forecast_series[input_date]\n",
        "    else:\n",
        "        return \"Date outside the available range\"\n"
      ],
      "metadata": {
        "id": "u54kMQTg3jPH"
      },
      "execution_count": null,
      "outputs": []
    },
    {
      "cell_type": "markdown",
      "source": [
        "## The above cell allows users to interact with the notebook by providing a date to estimate prices.\n",
        "\n",
        "The exception handling ensures that the program doesn't crash or hang from invalid user input."
      ],
      "metadata": {
        "id": "KBkD3miF6L5q"
      }
    },
    {
      "cell_type": "code",
      "source": [
        "#Prompt the user for a date\n",
        "input_date = input(\"Enter a date (YYYY-MM-DD) to estimate the price: \")\n",
        "\n",
        "#Estimate the price for the given date\n",
        "try:\n",
        "    estimated_price = estimate_price(input_date)\n",
        "    if isinstance(estimated_price, float):\n",
        "        print(f\"The estimated price on {input_date} is: {estimated_price:.2f} USD\")\n",
        "    else:\n",
        "        print(estimated_price)\n",
        "except Exception as e:\n",
        "    print(f\"Error: {e}\")\n"
      ],
      "metadata": {
        "id": "FaexihtN3lrG",
        "colab": {
          "base_uri": "https://localhost:8080/"
        },
        "outputId": "d8117686-893e-4565-ea4a-851d4a81f9d8"
      },
      "execution_count": null,
      "outputs": [
        {
          "output_type": "stream",
          "name": "stdout",
          "text": [
            "Enter a date (YYYY-MM-DD) to estimate the price: 2025-03-26\n",
            "The estimated price on 2025-03-26 is: 12.22 USD\n"
          ]
        }
      ]
    }
  ]
}